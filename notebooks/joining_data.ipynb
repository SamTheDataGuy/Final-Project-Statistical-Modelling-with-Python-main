{
 "cells": [
  {
   "cell_type": "code",
   "execution_count": 31,
   "metadata": {},
   "outputs": [],
   "source": [
    "# imports\n",
    "import requests\n",
    "import pandas as pd\n",
    "import numpy as np\n",
    "import json\n",
    "import os\n",
    "from dotenv import load_dotenv\n",
    "from matplotlib import pyplot as plt\n",
    "import seaborn as sns"
   ]
  },
  {
   "cell_type": "code",
   "execution_count": 17,
   "metadata": {},
   "outputs": [],
   "source": [
    "# Reading bike stations csv to dataframe\n",
    "df_stations = pd.read_csv('df_stations.csv')[['id','name','total_bikes','latitude','longitude']]\n",
    "\n",
    "# Reading bars and restaurants csv's to dataframes\n",
    "df_restaurants_bars_fs = pd.read_csv('df_restaurants_bars_fs.csv')\n",
    "df_bars_yelp = pd.read_csv('df_bars_yelp.csv')"
   ]
  },
  {
   "cell_type": "code",
   "execution_count": 18,
   "metadata": {},
   "outputs": [
    {
     "name": "stdout",
     "output_type": "stream",
     "text": [
      "Index(['id', 'name', 'total_bikes', 'latitude', 'longitude'], dtype='object')\n",
      "Index(['station_id', 'fsq_id', 'name', 'popularity', 'price', 'rating'], dtype='object')\n",
      "Index(['station_id', 'id', 'name', 'review_count', 'rating', 'price2'], dtype='object')\n"
     ]
    }
   ],
   "source": [
    "# Check column names\n",
    "print(df_stations.columns)\n",
    "print(df_restaurants_bars_fs.columns)\n",
    "print(df_bars_yelp.columns)"
   ]
  },
  {
   "cell_type": "code",
   "execution_count": 19,
   "metadata": {},
   "outputs": [],
   "source": [
    "# Need to adjust column names before merging\n",
    "df_stations.columns = ['station_id','station_name','total_bikes', 'latitude', 'longitude']\n",
    "df_restaurants_bars_fs.columns = ['station_id', 'fsq_id', 'fsq_name', 'fsq_popularity', 'fsq_price', 'fsq_rating']\n",
    "df_bars_yelp.columns = ['station_id', 'yelp_id', 'yelp_name', 'yelp_review_count', 'yelp_rating', 'yelp_price']"
   ]
  },
  {
   "attachments": {},
   "cell_type": "markdown",
   "metadata": {},
   "source": [
    "# Join the data from Part 1 with the data from Part 2 to create a new dataframe."
   ]
  },
  {
   "attachments": {},
   "cell_type": "markdown",
   "metadata": {},
   "source": [
    "### FourSquare"
   ]
  },
  {
   "cell_type": "code",
   "execution_count": 21,
   "metadata": {},
   "outputs": [],
   "source": [
    "# Merge dataframes together on the 'station_id' column\n",
    "df_restaurants_bars_fs_merged = df_stations.merge(df_restaurants_bars_fs,how='left',on='station_id')\n",
    "df_restaurants_bars_fs_merged.head()"
   ]
  },
  {
   "cell_type": "code",
   "execution_count": 85,
   "metadata": {},
   "outputs": [
    {
     "data": {
      "text/html": [
       "<div>\n",
       "<style scoped>\n",
       "    .dataframe tbody tr th:only-of-type {\n",
       "        vertical-align: middle;\n",
       "    }\n",
       "\n",
       "    .dataframe tbody tr th {\n",
       "        vertical-align: top;\n",
       "    }\n",
       "\n",
       "    .dataframe thead th {\n",
       "        text-align: right;\n",
       "    }\n",
       "</style>\n",
       "<table border=\"1\" class=\"dataframe\">\n",
       "  <thead>\n",
       "    <tr style=\"text-align: right;\">\n",
       "      <th></th>\n",
       "      <th></th>\n",
       "      <th>total_bikes</th>\n",
       "      <th>mean_fsq_POI_popularity</th>\n",
       "      <th>mean_fsq_POI_price</th>\n",
       "      <th>mean_fsq_POI_rating</th>\n",
       "      <th>count_fsq_POIs</th>\n",
       "    </tr>\n",
       "    <tr>\n",
       "      <th>station_id</th>\n",
       "      <th>station_name</th>\n",
       "      <th></th>\n",
       "      <th></th>\n",
       "      <th></th>\n",
       "      <th></th>\n",
       "      <th></th>\n",
       "    </tr>\n",
       "  </thead>\n",
       "  <tbody>\n",
       "    <tr>\n",
       "      <th>03712bfd188583696010813718ea01e1</th>\n",
       "      <th>P155 Colter St / Central Ave</th>\n",
       "      <td>12</td>\n",
       "      <td>0.954243</td>\n",
       "      <td>1.636364</td>\n",
       "      <td>8.050000</td>\n",
       "      <td>26</td>\n",
       "    </tr>\n",
       "    <tr>\n",
       "      <th>07a67f4f4e097e3e5b85fd2bf6ab0809</th>\n",
       "      <th>P175 9th St. / Van Buren St</th>\n",
       "      <td>13</td>\n",
       "      <td>0.958142</td>\n",
       "      <td>1.750000</td>\n",
       "      <td>8.175000</td>\n",
       "      <td>4</td>\n",
       "    </tr>\n",
       "    <tr>\n",
       "      <th>07aa8e1d89b85fdf5e0fba51043ba0ed</th>\n",
       "      <th>P101 5th St / Grant St</th>\n",
       "      <td>10</td>\n",
       "      <td>0.716138</td>\n",
       "      <td>1.333333</td>\n",
       "      <td>6.700000</td>\n",
       "      <td>11</td>\n",
       "    </tr>\n",
       "    <tr>\n",
       "      <th>0cab138d1a9b55f141311a4a90e96d28</th>\n",
       "      <th>P168 5th St. and Washington</th>\n",
       "      <td>15</td>\n",
       "      <td>0.913278</td>\n",
       "      <td>1.892857</td>\n",
       "      <td>7.488235</td>\n",
       "      <td>37</td>\n",
       "    </tr>\n",
       "    <tr>\n",
       "      <th>0d985cfd2b567116f790a1a7e31d5ad7</th>\n",
       "      <th>T09 Washington St / Center Pkwy</th>\n",
       "      <td>9</td>\n",
       "      <td>0.994972</td>\n",
       "      <td>NaN</td>\n",
       "      <td>7.300000</td>\n",
       "      <td>2</td>\n",
       "    </tr>\n",
       "  </tbody>\n",
       "</table>\n",
       "</div>"
      ],
      "text/plain": [
       "                                                                  total_bikes  \\\n",
       "station_id                       station_name                                   \n",
       "03712bfd188583696010813718ea01e1 P155 Colter St / Central Ave              12   \n",
       "07a67f4f4e097e3e5b85fd2bf6ab0809 P175 9th St. / Van Buren St               13   \n",
       "07aa8e1d89b85fdf5e0fba51043ba0ed P101 5th St / Grant St                    10   \n",
       "0cab138d1a9b55f141311a4a90e96d28 P168 5th St. and Washington               15   \n",
       "0d985cfd2b567116f790a1a7e31d5ad7 T09 Washington St / Center Pkwy            9   \n",
       "\n",
       "                                                                  mean_fsq_POI_popularity  \\\n",
       "station_id                       station_name                                               \n",
       "03712bfd188583696010813718ea01e1 P155 Colter St / Central Ave                    0.954243   \n",
       "07a67f4f4e097e3e5b85fd2bf6ab0809 P175 9th St. / Van Buren St                     0.958142   \n",
       "07aa8e1d89b85fdf5e0fba51043ba0ed P101 5th St / Grant St                          0.716138   \n",
       "0cab138d1a9b55f141311a4a90e96d28 P168 5th St. and Washington                     0.913278   \n",
       "0d985cfd2b567116f790a1a7e31d5ad7 T09 Washington St / Center Pkwy                 0.994972   \n",
       "\n",
       "                                                                  mean_fsq_POI_price  \\\n",
       "station_id                       station_name                                          \n",
       "03712bfd188583696010813718ea01e1 P155 Colter St / Central Ave               1.636364   \n",
       "07a67f4f4e097e3e5b85fd2bf6ab0809 P175 9th St. / Van Buren St                1.750000   \n",
       "07aa8e1d89b85fdf5e0fba51043ba0ed P101 5th St / Grant St                     1.333333   \n",
       "0cab138d1a9b55f141311a4a90e96d28 P168 5th St. and Washington                1.892857   \n",
       "0d985cfd2b567116f790a1a7e31d5ad7 T09 Washington St / Center Pkwy                 NaN   \n",
       "\n",
       "                                                                  mean_fsq_POI_rating  \\\n",
       "station_id                       station_name                                           \n",
       "03712bfd188583696010813718ea01e1 P155 Colter St / Central Ave                8.050000   \n",
       "07a67f4f4e097e3e5b85fd2bf6ab0809 P175 9th St. / Van Buren St                 8.175000   \n",
       "07aa8e1d89b85fdf5e0fba51043ba0ed P101 5th St / Grant St                      6.700000   \n",
       "0cab138d1a9b55f141311a4a90e96d28 P168 5th St. and Washington                 7.488235   \n",
       "0d985cfd2b567116f790a1a7e31d5ad7 T09 Washington St / Center Pkwy             7.300000   \n",
       "\n",
       "                                                                  count_fsq_POIs  \n",
       "station_id                       station_name                                     \n",
       "03712bfd188583696010813718ea01e1 P155 Colter St / Central Ave                 26  \n",
       "07a67f4f4e097e3e5b85fd2bf6ab0809 P175 9th St. / Van Buren St                   4  \n",
       "07aa8e1d89b85fdf5e0fba51043ba0ed P101 5th St / Grant St                       11  \n",
       "0cab138d1a9b55f141311a4a90e96d28 P168 5th St. and Washington                  37  \n",
       "0d985cfd2b567116f790a1a7e31d5ad7 T09 Washington St / Center Pkwy               2  "
      ]
     },
     "execution_count": 85,
     "metadata": {},
     "output_type": "execute_result"
    }
   ],
   "source": [
    "# There are duplicate bike stations and POI's in the merged tables, but each station to POI matchup is unique.  \n",
    "# To find the average of each metric for every bike station, I created a pivot table.\n",
    "\n",
    "# Creating a pivot table to aggregate by bike station\n",
    "pivot_fs = df_restaurants_bars_fs_merged.pivot_table(index=['station_id','station_name'],\n",
    "                          values=['fsq_popularity','fsq_price','fsq_rating','total_bikes'],\n",
    "                          aggfunc=['mean','count'])\n",
    "\n",
    "pivot_fs.columns = ['mean_fsq_POI_popularity','mean_fsq_POI_price','mean_fsq_POI_rating','total_bikes',\n",
    "                    'count_fsq_popularity','count_fsq_price','count_fsq_rating','count_fsq_POIs']\n",
    "\n",
    "pivot_fs = pivot_fs[['total_bikes','mean_fsq_POI_popularity','mean_fsq_POI_price','mean_fsq_POI_rating','count_fsq_POIs']]\n",
    "pivot_fs.head()"
   ]
  },
  {
   "attachments": {},
   "cell_type": "markdown",
   "metadata": {},
   "source": [
    "Provide a visualization that you used as part of your EDA process. Explain the initial pattern or relationship you discoved through this visualization. "
   ]
  },
  {
   "cell_type": "code",
   "execution_count": 86,
   "metadata": {},
   "outputs": [
    {
     "data": {
      "text/plain": [
       "<Axes: xlabel='count_fsq_POIs', ylabel='total_bikes'>"
      ]
     },
     "execution_count": 86,
     "metadata": {},
     "output_type": "execute_result"
    },
    {
     "data": {
      "image/png": "[encoded data removed]",
      "text/plain": [
       "<Figure size 1400x1000 with 4 Axes>"
      ]
     },
     "metadata": {},
     "output_type": "display_data"
    }
   ],
   "source": [
    "# EDA for the CityBike-Foursquare merged table to see if a relationship between total_bikes and other metrics can be visualized\n",
    "# There doesn't seem to be any relationship, but this will be explored further in the model_building notebook\n",
    "\n",
    "fig, axes = plt.subplots(2, 2, figsize=(14, 10))\n",
    "sns.scatterplot(ax=axes[0,0], data=pivot_fs,x='mean_fsq_POI_popularity',y='total_bikes')\n",
    "sns.scatterplot(ax=axes[0,1], data=pivot_fs,x='mean_fsq_POI_price',y='total_bikes')\n",
    "sns.scatterplot(ax=axes[1,0], data=pivot_fs,x='mean_fsq_POI_rating',y='total_bikes')\n",
    "sns.scatterplot(ax=axes[1,1], data=pivot_fs,x='count_fsq_POIs',y='total_bikes')"
   ]
  },
  {
   "attachments": {},
   "cell_type": "markdown",
   "metadata": {},
   "source": [
    "## Yelp"
   ]
  },
  {
   "cell_type": "code",
   "execution_count": 87,
   "metadata": {},
   "outputs": [
    {
     "data": {
      "text/html": [
       "<div>\n",
       "<style scoped>\n",
       "    .dataframe tbody tr th:only-of-type {\n",
       "        vertical-align: middle;\n",
       "    }\n",
       "\n",
       "    .dataframe tbody tr th {\n",
       "        vertical-align: top;\n",
       "    }\n",
       "\n",
       "    .dataframe thead th {\n",
       "        text-align: right;\n",
       "    }\n",
       "</style>\n",
       "<table border=\"1\" class=\"dataframe\">\n",
       "  <thead>\n",
       "    <tr style=\"text-align: right;\">\n",
       "      <th></th>\n",
       "      <th>station_id</th>\n",
       "      <th>station_name</th>\n",
       "      <th>total_bikes</th>\n",
       "      <th>latitude</th>\n",
       "      <th>longitude</th>\n",
       "      <th>yelp_id</th>\n",
       "      <th>yelp_name</th>\n",
       "      <th>yelp_review_count</th>\n",
       "      <th>yelp_rating</th>\n",
       "      <th>yelp_price</th>\n",
       "    </tr>\n",
       "  </thead>\n",
       "  <tbody>\n",
       "    <tr>\n",
       "      <th>0</th>\n",
       "      <td>d334f65221f6a681f8b03433f36e2075</td>\n",
       "      <td>T19 Kiwanis Park</td>\n",
       "      <td>9</td>\n",
       "      <td>33.366488</td>\n",
       "      <td>-111.935612</td>\n",
       "      <td>5Ks4F3IOvSLi0KePlhr-sw</td>\n",
       "      <td>Bogeys Grill</td>\n",
       "      <td>147.0</td>\n",
       "      <td>4.0</td>\n",
       "      <td>1.0</td>\n",
       "    </tr>\n",
       "    <tr>\n",
       "      <th>1</th>\n",
       "      <td>cac663c57dee1dafd5f152bb906e97d5</td>\n",
       "      <td>P211 10th St / Pierce</td>\n",
       "      <td>6</td>\n",
       "      <td>33.455654</td>\n",
       "      <td>-112.060592</td>\n",
       "      <td>5V8O-vas5A4XGWqxsJ7GBg</td>\n",
       "      <td>The Farish House</td>\n",
       "      <td>286.0</td>\n",
       "      <td>4.5</td>\n",
       "      <td>2.0</td>\n",
       "    </tr>\n",
       "    <tr>\n",
       "      <th>2</th>\n",
       "      <td>cac663c57dee1dafd5f152bb906e97d5</td>\n",
       "      <td>P211 10th St / Pierce</td>\n",
       "      <td>6</td>\n",
       "      <td>33.455654</td>\n",
       "      <td>-112.060592</td>\n",
       "      <td>snnblypVofvG3OKMUKWO6A</td>\n",
       "      <td>IL Bosco Pizza</td>\n",
       "      <td>160.0</td>\n",
       "      <td>4.5</td>\n",
       "      <td>2.0</td>\n",
       "    </tr>\n",
       "    <tr>\n",
       "      <th>3</th>\n",
       "      <td>cac663c57dee1dafd5f152bb906e97d5</td>\n",
       "      <td>P211 10th St / Pierce</td>\n",
       "      <td>6</td>\n",
       "      <td>33.455654</td>\n",
       "      <td>-112.060592</td>\n",
       "      <td>QEBJq71ph_qtmQyCPNrwPw</td>\n",
       "      <td>Palma</td>\n",
       "      <td>324.0</td>\n",
       "      <td>4.0</td>\n",
       "      <td>2.0</td>\n",
       "    </tr>\n",
       "    <tr>\n",
       "      <th>4</th>\n",
       "      <td>cac663c57dee1dafd5f152bb906e97d5</td>\n",
       "      <td>P211 10th St / Pierce</td>\n",
       "      <td>6</td>\n",
       "      <td>33.455654</td>\n",
       "      <td>-112.060592</td>\n",
       "      <td>aEtbXqbkf2BnwEVWQ2yjUw</td>\n",
       "      <td>Taco Chelo</td>\n",
       "      <td>712.0</td>\n",
       "      <td>4.0</td>\n",
       "      <td>2.0</td>\n",
       "    </tr>\n",
       "  </tbody>\n",
       "</table>\n",
       "</div>"
      ],
      "text/plain": [
       "                         station_id           station_name  total_bikes  \\\n",
       "0  d334f65221f6a681f8b03433f36e2075       T19 Kiwanis Park            9   \n",
       "1  cac663c57dee1dafd5f152bb906e97d5  P211 10th St / Pierce            6   \n",
       "2  cac663c57dee1dafd5f152bb906e97d5  P211 10th St / Pierce            6   \n",
       "3  cac663c57dee1dafd5f152bb906e97d5  P211 10th St / Pierce            6   \n",
       "4  cac663c57dee1dafd5f152bb906e97d5  P211 10th St / Pierce            6   \n",
       "\n",
       "    latitude   longitude                 yelp_id         yelp_name  \\\n",
       "0  33.366488 -111.935612  5Ks4F3IOvSLi0KePlhr-sw      Bogeys Grill   \n",
       "1  33.455654 -112.060592  5V8O-vas5A4XGWqxsJ7GBg  The Farish House   \n",
       "2  33.455654 -112.060592  snnblypVofvG3OKMUKWO6A    IL Bosco Pizza   \n",
       "3  33.455654 -112.060592  QEBJq71ph_qtmQyCPNrwPw             Palma   \n",
       "4  33.455654 -112.060592  aEtbXqbkf2BnwEVWQ2yjUw        Taco Chelo   \n",
       "\n",
       "   yelp_review_count  yelp_rating  yelp_price  \n",
       "0              147.0          4.0         1.0  \n",
       "1              286.0          4.5         2.0  \n",
       "2              160.0          4.5         2.0  \n",
       "3              324.0          4.0         2.0  \n",
       "4              712.0          4.0         2.0  "
      ]
     },
     "execution_count": 87,
     "metadata": {},
     "output_type": "execute_result"
    }
   ],
   "source": [
    "# Merge dataframes together on the 'station_id' column\n",
    "df_bars_yelp_merged = df_stations.merge(df_bars_yelp,how='left',on='station_id')\n",
    "df_bars_yelp_merged.head()"
   ]
  },
  {
   "cell_type": "code",
   "execution_count": 88,
   "metadata": {},
   "outputs": [
    {
     "data": {
      "text/html": [
       "<div>\n",
       "<style scoped>\n",
       "    .dataframe tbody tr th:only-of-type {\n",
       "        vertical-align: middle;\n",
       "    }\n",
       "\n",
       "    .dataframe tbody tr th {\n",
       "        vertical-align: top;\n",
       "    }\n",
       "\n",
       "    .dataframe thead th {\n",
       "        text-align: right;\n",
       "    }\n",
       "</style>\n",
       "<table border=\"1\" class=\"dataframe\">\n",
       "  <thead>\n",
       "    <tr style=\"text-align: right;\">\n",
       "      <th></th>\n",
       "      <th></th>\n",
       "      <th>total_bikes</th>\n",
       "      <th>mean_yelp_price</th>\n",
       "      <th>mean_yelp_rating</th>\n",
       "      <th>mean_yelp_review_count</th>\n",
       "      <th>count_yelp_POIs</th>\n",
       "    </tr>\n",
       "    <tr>\n",
       "      <th>station_id</th>\n",
       "      <th>station_name</th>\n",
       "      <th></th>\n",
       "      <th></th>\n",
       "      <th></th>\n",
       "      <th></th>\n",
       "      <th></th>\n",
       "    </tr>\n",
       "  </thead>\n",
       "  <tbody>\n",
       "    <tr>\n",
       "      <th>03712bfd188583696010813718ea01e1</th>\n",
       "      <th>P155 Colter St / Central Ave</th>\n",
       "      <td>12</td>\n",
       "      <td>1.875000</td>\n",
       "      <td>3.913793</td>\n",
       "      <td>492.551724</td>\n",
       "      <td>29</td>\n",
       "    </tr>\n",
       "    <tr>\n",
       "      <th>07a67f4f4e097e3e5b85fd2bf6ab0809</th>\n",
       "      <th>P175 9th St. / Van Buren St</th>\n",
       "      <td>13</td>\n",
       "      <td>2.000000</td>\n",
       "      <td>4.030000</td>\n",
       "      <td>234.920000</td>\n",
       "      <td>50</td>\n",
       "    </tr>\n",
       "    <tr>\n",
       "      <th>07aa8e1d89b85fdf5e0fba51043ba0ed</th>\n",
       "      <th>P101 5th St / Grant St</th>\n",
       "      <td>10</td>\n",
       "      <td>2.151515</td>\n",
       "      <td>3.825581</td>\n",
       "      <td>315.674419</td>\n",
       "      <td>43</td>\n",
       "    </tr>\n",
       "    <tr>\n",
       "      <th>0cab138d1a9b55f141311a4a90e96d28</th>\n",
       "      <th>P168 5th St. and Washington</th>\n",
       "      <td>15</td>\n",
       "      <td>2.065217</td>\n",
       "      <td>4.000000</td>\n",
       "      <td>384.180000</td>\n",
       "      <td>50</td>\n",
       "    </tr>\n",
       "    <tr>\n",
       "      <th>0d985cfd2b567116f790a1a7e31d5ad7</th>\n",
       "      <th>T09 Washington St / Center Pkwy</th>\n",
       "      <td>9</td>\n",
       "      <td>2.000000</td>\n",
       "      <td>4.000000</td>\n",
       "      <td>100.400000</td>\n",
       "      <td>5</td>\n",
       "    </tr>\n",
       "  </tbody>\n",
       "</table>\n",
       "</div>"
      ],
      "text/plain": [
       "                                                                  total_bikes  \\\n",
       "station_id                       station_name                                   \n",
       "03712bfd188583696010813718ea01e1 P155 Colter St / Central Ave              12   \n",
       "07a67f4f4e097e3e5b85fd2bf6ab0809 P175 9th St. / Van Buren St               13   \n",
       "07aa8e1d89b85fdf5e0fba51043ba0ed P101 5th St / Grant St                    10   \n",
       "0cab138d1a9b55f141311a4a90e96d28 P168 5th St. and Washington               15   \n",
       "0d985cfd2b567116f790a1a7e31d5ad7 T09 Washington St / Center Pkwy            9   \n",
       "\n",
       "                                                                  mean_yelp_price  \\\n",
       "station_id                       station_name                                       \n",
       "03712bfd188583696010813718ea01e1 P155 Colter St / Central Ave            1.875000   \n",
       "07a67f4f4e097e3e5b85fd2bf6ab0809 P175 9th St. / Van Buren St             2.000000   \n",
       "07aa8e1d89b85fdf5e0fba51043ba0ed P101 5th St / Grant St                  2.151515   \n",
       "0cab138d1a9b55f141311a4a90e96d28 P168 5th St. and Washington             2.065217   \n",
       "0d985cfd2b567116f790a1a7e31d5ad7 T09 Washington St / Center Pkwy         2.000000   \n",
       "\n",
       "                                                                  mean_yelp_rating  \\\n",
       "station_id                       station_name                                        \n",
       "03712bfd188583696010813718ea01e1 P155 Colter St / Central Ave             3.913793   \n",
       "07a67f4f4e097e3e5b85fd2bf6ab0809 P175 9th St. / Van Buren St              4.030000   \n",
       "07aa8e1d89b85fdf5e0fba51043ba0ed P101 5th St / Grant St                   3.825581   \n",
       "0cab138d1a9b55f141311a4a90e96d28 P168 5th St. and Washington              4.000000   \n",
       "0d985cfd2b567116f790a1a7e31d5ad7 T09 Washington St / Center Pkwy          4.000000   \n",
       "\n",
       "                                                                  mean_yelp_review_count  \\\n",
       "station_id                       station_name                                              \n",
       "03712bfd188583696010813718ea01e1 P155 Colter St / Central Ave                 492.551724   \n",
       "07a67f4f4e097e3e5b85fd2bf6ab0809 P175 9th St. / Van Buren St                  234.920000   \n",
       "07aa8e1d89b85fdf5e0fba51043ba0ed P101 5th St / Grant St                       315.674419   \n",
       "0cab138d1a9b55f141311a4a90e96d28 P168 5th St. and Washington                  384.180000   \n",
       "0d985cfd2b567116f790a1a7e31d5ad7 T09 Washington St / Center Pkwy              100.400000   \n",
       "\n",
       "                                                                  count_yelp_POIs  \n",
       "station_id                       station_name                                      \n",
       "03712bfd188583696010813718ea01e1 P155 Colter St / Central Ave                  29  \n",
       "07a67f4f4e097e3e5b85fd2bf6ab0809 P175 9th St. / Van Buren St                   50  \n",
       "07aa8e1d89b85fdf5e0fba51043ba0ed P101 5th St / Grant St                        43  \n",
       "0cab138d1a9b55f141311a4a90e96d28 P168 5th St. and Washington                   50  \n",
       "0d985cfd2b567116f790a1a7e31d5ad7 T09 Washington St / Center Pkwy                5  "
      ]
     },
     "execution_count": 88,
     "metadata": {},
     "output_type": "execute_result"
    }
   ],
   "source": [
    "# There are duplicate bike stations and Yelp POI's in the merged tables, but each station to POI matchup is unique.  \n",
    "# To find the average of each metric for every bike station, I created a pivot table.\n",
    "\n",
    "# Creating a pivot table to aggregate by bike station\n",
    "pivot_yelp = df_bars_yelp_merged.pivot_table(index=['station_id','station_name'],\n",
    "                          values=['yelp_review_count','yelp_rating','yelp_price','total_bikes'],\n",
    "                          aggfunc=['mean','count'])\n",
    "\n",
    "pivot_yelp.columns = ['total_bikes','mean_yelp_price','mean_yelp_rating','mean_yelp_review_count',\n",
    "                      'count_yelp_POIs','count_yelp_price','count_yelp_rating','count_yelp_review_count']\n",
    "\n",
    "pivot_yelp = pivot_yelp[['total_bikes','mean_yelp_price','mean_yelp_rating','mean_yelp_review_count','count_yelp_POIs']]\n",
    "pivot_yelp.head()"
   ]
  },
  {
   "cell_type": "code",
   "execution_count": 89,
   "metadata": {},
   "outputs": [
    {
     "data": {
      "text/plain": [
       "<Axes: xlabel='count_yelp_POIs', ylabel='total_bikes'>"
      ]
     },
     "execution_count": 89,
     "metadata": {},
     "output_type": "execute_result"
    },
    {
     "data": {
      "image/png": "[encoded data removed]",
      "text/plain": [
       "<Figure size 1400x1000 with 4 Axes>"
      ]
     },
     "metadata": {},
     "output_type": "display_data"
    }
   ],
   "source": [
    "# EDA for the CityBike-Yelp merged table to see if a relationship between total_bikes and other metrics can be visualized\n",
    "# There doesn't seem to be any relationship, but this will be explored further in the model_building notebook\n",
    "\n",
    "fig, axes = plt.subplots(2, 2, figsize=(14, 10))\n",
    "sns.scatterplot(ax=axes[0,0], data=pivot_yelp,x='mean_yelp_price',y='total_bikes')\n",
    "sns.scatterplot(ax=axes[0,1], data=pivot_yelp,x='mean_yelp_rating',y='total_bikes')\n",
    "sns.scatterplot(ax=axes[1,0], data=pivot_yelp,x='mean_yelp_review_count',y='total_bikes')\n",
    "sns.scatterplot(ax=axes[1,1], data=pivot_yelp,x='count_yelp_POIs',y='total_bikes')"
   ]
  },
  {
   "cell_type": "code",
   "execution_count": 90,
   "metadata": {},
   "outputs": [],
   "source": [
    "# Writing pivot tables to csv\n",
    "pivot_fs.to_csv(path_or_buf='pivot_fs.csv')\n",
    "pivot_yelp.to_csv(path_or_buf='pivot_yelp.csv')"
   ]
  },
  {
   "attachments": {},
   "cell_type": "markdown",
   "metadata": {},
   "source": [
    "# Database"
   ]
  },
  {
   "attachments": {},
   "cell_type": "markdown",
   "metadata": {},
   "source": [
    "Put all your results in an SQLite3 database (remember, SQLite stores its databases as files in your local machine - make sure to create your database in your project's data/ directory!)"
   ]
  },
  {
   "cell_type": "code",
   "execution_count": 105,
   "metadata": {},
   "outputs": [
    {
     "data": {
      "text/html": [
       "<div>\n",
       "<style scoped>\n",
       "    .dataframe tbody tr th:only-of-type {\n",
       "        vertical-align: middle;\n",
       "    }\n",
       "\n",
       "    .dataframe tbody tr th {\n",
       "        vertical-align: top;\n",
       "    }\n",
       "\n",
       "    .dataframe thead th {\n",
       "        text-align: right;\n",
       "    }\n",
       "</style>\n",
       "<table border=\"1\" class=\"dataframe\">\n",
       "  <thead>\n",
       "    <tr style=\"text-align: right;\">\n",
       "      <th></th>\n",
       "      <th>station_id</th>\n",
       "      <th>station_name</th>\n",
       "      <th>total_bikes</th>\n",
       "      <th>mean_fsq_POI_popularity</th>\n",
       "      <th>mean_fsq_POI_price</th>\n",
       "      <th>mean_fsq_POI_rating</th>\n",
       "      <th>count_fsq_POIs</th>\n",
       "      <th>mean_yelp_price</th>\n",
       "      <th>mean_yelp_rating</th>\n",
       "      <th>mean_yelp_review_count</th>\n",
       "      <th>count_yelp_POIs</th>\n",
       "    </tr>\n",
       "  </thead>\n",
       "  <tbody>\n",
       "    <tr>\n",
       "      <th>0</th>\n",
       "      <td>03712bfd188583696010813718ea01e1</td>\n",
       "      <td>P155 Colter St / Central Ave</td>\n",
       "      <td>12</td>\n",
       "      <td>0.954243</td>\n",
       "      <td>1.636364</td>\n",
       "      <td>8.050000</td>\n",
       "      <td>26</td>\n",
       "      <td>1.875000</td>\n",
       "      <td>3.913793</td>\n",
       "      <td>492.551724</td>\n",
       "      <td>29</td>\n",
       "    </tr>\n",
       "    <tr>\n",
       "      <th>1</th>\n",
       "      <td>07a67f4f4e097e3e5b85fd2bf6ab0809</td>\n",
       "      <td>P175 9th St. / Van Buren St</td>\n",
       "      <td>13</td>\n",
       "      <td>0.958142</td>\n",
       "      <td>1.750000</td>\n",
       "      <td>8.175000</td>\n",
       "      <td>4</td>\n",
       "      <td>2.000000</td>\n",
       "      <td>4.030000</td>\n",
       "      <td>234.920000</td>\n",
       "      <td>50</td>\n",
       "    </tr>\n",
       "    <tr>\n",
       "      <th>2</th>\n",
       "      <td>07aa8e1d89b85fdf5e0fba51043ba0ed</td>\n",
       "      <td>P101 5th St / Grant St</td>\n",
       "      <td>10</td>\n",
       "      <td>0.716138</td>\n",
       "      <td>1.333333</td>\n",
       "      <td>6.700000</td>\n",
       "      <td>11</td>\n",
       "      <td>2.151515</td>\n",
       "      <td>3.825581</td>\n",
       "      <td>315.674419</td>\n",
       "      <td>43</td>\n",
       "    </tr>\n",
       "    <tr>\n",
       "      <th>3</th>\n",
       "      <td>0cab138d1a9b55f141311a4a90e96d28</td>\n",
       "      <td>P168 5th St. and Washington</td>\n",
       "      <td>15</td>\n",
       "      <td>0.913278</td>\n",
       "      <td>1.892857</td>\n",
       "      <td>7.488235</td>\n",
       "      <td>37</td>\n",
       "      <td>2.065217</td>\n",
       "      <td>4.000000</td>\n",
       "      <td>384.180000</td>\n",
       "      <td>50</td>\n",
       "    </tr>\n",
       "    <tr>\n",
       "      <th>4</th>\n",
       "      <td>0d985cfd2b567116f790a1a7e31d5ad7</td>\n",
       "      <td>T09 Washington St / Center Pkwy</td>\n",
       "      <td>9</td>\n",
       "      <td>0.994972</td>\n",
       "      <td>NaN</td>\n",
       "      <td>7.300000</td>\n",
       "      <td>2</td>\n",
       "      <td>2.000000</td>\n",
       "      <td>4.000000</td>\n",
       "      <td>100.400000</td>\n",
       "      <td>5</td>\n",
       "    </tr>\n",
       "  </tbody>\n",
       "</table>\n",
       "</div>"
      ],
      "text/plain": [
       "                         station_id                     station_name  \\\n",
       "0  03712bfd188583696010813718ea01e1     P155 Colter St / Central Ave   \n",
       "1  07a67f4f4e097e3e5b85fd2bf6ab0809      P175 9th St. / Van Buren St   \n",
       "2  07aa8e1d89b85fdf5e0fba51043ba0ed           P101 5th St / Grant St   \n",
       "3  0cab138d1a9b55f141311a4a90e96d28      P168 5th St. and Washington   \n",
       "4  0d985cfd2b567116f790a1a7e31d5ad7  T09 Washington St / Center Pkwy   \n",
       "\n",
       "   total_bikes  mean_fsq_POI_popularity  mean_fsq_POI_price  \\\n",
       "0           12                 0.954243            1.636364   \n",
       "1           13                 0.958142            1.750000   \n",
       "2           10                 0.716138            1.333333   \n",
       "3           15                 0.913278            1.892857   \n",
       "4            9                 0.994972                 NaN   \n",
       "\n",
       "   mean_fsq_POI_rating  count_fsq_POIs  mean_yelp_price  mean_yelp_rating  \\\n",
       "0             8.050000              26         1.875000          3.913793   \n",
       "1             8.175000               4         2.000000          4.030000   \n",
       "2             6.700000              11         2.151515          3.825581   \n",
       "3             7.488235              37         2.065217          4.000000   \n",
       "4             7.300000               2         2.000000          4.000000   \n",
       "\n",
       "   mean_yelp_review_count  count_yelp_POIs  \n",
       "0              492.551724               29  \n",
       "1              234.920000               50  \n",
       "2              315.674419               43  \n",
       "3              384.180000               50  \n",
       "4              100.400000                5  "
      ]
     },
     "execution_count": 105,
     "metadata": {},
     "output_type": "execute_result"
    }
   ],
   "source": [
    "# Concatecating pivot_fs and pivot_yelp tables\n",
    "df_stations = pd.concat([pivot_fs,pivot_yelp.drop(labels='total_bikes',axis=1)],axis=1).reset_index(drop=False)\n",
    "df_stations.head()"
   ]
  },
  {
   "cell_type": "code",
   "execution_count": 116,
   "metadata": {},
   "outputs": [],
   "source": [
    "# Defining function to connect to a SQLite database\n",
    "\n",
    "import sqlite3\n",
    "from sqlite3 import Error\n",
    "\n",
    "def create_connection(path):\n",
    "    connection = None\n",
    "    try:\n",
    "        connection = sqlite3.connect(path)\n",
    "        print(\"Connection to SQLite DB successful\")\n",
    "    except Error as e:\n",
    "        print(f\"The error '{e}' occurred\")\n",
    "\n",
    "    return connection"
   ]
  },
  {
   "cell_type": "code",
   "execution_count": 117,
   "metadata": {},
   "outputs": [
    {
     "name": "stdout",
     "output_type": "stream",
     "text": [
      "Connection to SQLite DB successful\n"
     ]
    }
   ],
   "source": [
    "# Creating connection\n",
    "connection = create_connection(\"sm_app.sqlite\")"
   ]
  },
  {
   "cell_type": "code",
   "execution_count": 118,
   "metadata": {},
   "outputs": [],
   "source": [
    "# Create function to execute query that writes the concatenated dataframe to the SQLite database\n",
    "\n",
    "def execute_query(connection, query):\n",
    "    cursor = connection.cursor()\n",
    "    try:\n",
    "        cursor.execute(query)\n",
    "        connection.commit()\n",
    "        print(\"Query executed successfully\")\n",
    "    except Error as e:\n",
    "        print(f\"The error '{e}' occurred\")"
   ]
  },
  {
   "cell_type": "code",
   "execution_count": 124,
   "metadata": {},
   "outputs": [],
   "source": [
    "# Creating query string\n",
    "\n",
    "create_table = \"\"\"\n",
    "CREATE TABLE IF NOT EXISTS stations (\n",
    "  station_id TEXT NOT NULL,\n",
    "  station_name TEXT,\n",
    "  total_bikes INTEGER,\n",
    "  mean_fsq_POI_popularity FLOAT,\n",
    "  mean_fsq_POI_price FLOAT,\n",
    "  mean_fsq_POI_rating FLOAT,\n",
    "  count_fsq_POIs INTEGER,\n",
    "  mean_yelp_price FLOAT,\n",
    "  mean_yelp_rating FLOAT,\n",
    "  mean_yelp_review_count FLOAT,\n",
    "  count_yelp_POIs FLOAT\n",
    ");\n",
    "\"\"\""
   ]
  },
  {
   "cell_type": "code",
   "execution_count": 125,
   "metadata": {},
   "outputs": [
    {
     "name": "stdout",
     "output_type": "stream",
     "text": [
      "Query executed successfully\n"
     ]
    }
   ],
   "source": [
    "# Create table in database\n",
    "execute_query(connection, create_table)"
   ]
  },
  {
   "cell_type": "code",
   "execution_count": 126,
   "metadata": {},
   "outputs": [
    {
     "data": {
      "text/plain": [
       "98"
      ]
     },
     "execution_count": 126,
     "metadata": {},
     "output_type": "execute_result"
    }
   ],
   "source": [
    "# Inserting df_stations as records into 'stations' table\n",
    "df_stations.to_sql('stations',connection,if_exists='replace',index=False)"
   ]
  }
 ],
 "metadata": {
  "kernelspec": {
   "display_name": "Python 3",
   "language": "python",
   "name": "python3"
  },
  "language_info": {
   "codemirror_mode": {
    "name": "ipython",
    "version": 3
   },
   "file_extension": ".py",
   "mimetype": "text/x-python",
   "name": "python",
   "nbconvert_exporter": "python",
   "pygments_lexer": "ipython3",
   "version": "3.9.16"
  }
 },
 "nbformat": 4,
 "nbformat_minor": 4
}
